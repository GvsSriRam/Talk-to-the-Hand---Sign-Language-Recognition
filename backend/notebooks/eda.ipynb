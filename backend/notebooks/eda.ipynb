{
 "cells": [
  {
   "cell_type": "code",
   "execution_count": 1,
   "metadata": {},
   "outputs": [
    {
     "name": "stderr",
     "output_type": "stream",
     "text": [
      "WARNING: All log messages before absl::InitializeLog() is called are written to STDERR\n",
      "I0000 00:00:1719362533.136455 9719168 gl_context.cc:357] GL version: 2.1 (2.1 Metal - 88.1), renderer: Apple M2 Pro\n"
     ]
    },
    {
     "name": "stderr",
     "output_type": "stream",
     "text": [
      "INFO: Created TensorFlow Lite XNNPACK delegate for CPU.\n",
      "W0000 00:00:1719362533.151127 9719552 inference_feedback_manager.cc:114] Feedback manager requires a model with a single signature inference. Disabling support for feedback tensors.\n",
      "W0000 00:00:1719362533.158115 9719552 inference_feedback_manager.cc:114] Feedback manager requires a model with a single signature inference. Disabling support for feedback tensors.\n"
     ]
    }
   ],
   "source": [
    "import mediapipe as mp\n",
    "import cv2\n",
    "import numpy as np\n",
    "\n",
    "# Load the MediaPipe Hands model\n",
    "mp_hands = mp.solutions.hands.Hands()\n",
    "\n",
    "def get_landmarks(file_location):\n",
    "    # Read the image\n",
    "    image = cv2.imread(file_location)\n",
    "\n",
    "    # Convert the image to RGB\n",
    "    image_rgb = cv2.cvtColor(image, cv2.COLOR_BGR2RGB)\n",
    "\n",
    "    # Process the image and get the landmarks data\n",
    "    results = mp_hands.process(image_rgb)\n",
    "\n",
    "    # Extract the landmarks from the results\n",
    "    landmarks = results.multi_hand_landmarks\n",
    "    \n",
    "    # Convert the landmarks to a numpy array\n",
    "    if landmarks:\n",
    "        landmarks_np = np.array([[landmark.x, landmark.y, landmark.z] for landmark in landmarks[0].landmark])\n",
    "    else:\n",
    "        return None\n",
    "    \n",
    "    return landmarks_np"
   ]
  },
  {
   "cell_type": "code",
   "execution_count": 5,
   "metadata": {},
   "outputs": [
    {
     "name": "stderr",
     "output_type": "stream",
     "text": [
      "/Users/gvssriram/anaconda3/envs/math_note_x/lib/python3.11/site-packages/google/protobuf/symbol_database.py:55: UserWarning: SymbolDatabase.GetPrototype() is deprecated. Please use message_factory.GetMessageClass() instead. SymbolDatabase.GetPrototype() will be removed soon.\n",
      "  warnings.warn('SymbolDatabase.GetPrototype() is deprecated. Please '\n"
     ]
    },
    {
     "data": {
      "text/plain": [
       "array([[ 4.64912236e-01,  7.08312333e-01, -5.07552727e-07],\n",
       "       [ 5.55222034e-01,  6.61325216e-01, -3.01212054e-02],\n",
       "       [ 6.11243725e-01,  5.56986272e-01, -3.71273123e-02],\n",
       "       [ 6.28573656e-01,  4.74767298e-01, -4.52330187e-02],\n",
       "       [ 6.57870531e-01,  4.19055343e-01, -4.70682345e-02],\n",
       "       [ 5.59369504e-01,  4.78744626e-01, -9.29429382e-03],\n",
       "       [ 5.80612838e-01,  4.29308653e-01, -5.91461286e-02],\n",
       "       [ 5.69544733e-01,  4.97442067e-01, -8.42664838e-02],\n",
       "       [ 5.57560682e-01,  5.53520024e-01, -9.04561877e-02],\n",
       "       [ 4.97235030e-01,  4.80179012e-01, -9.58103687e-03],\n",
       "       [ 5.20756185e-01,  4.38761264e-01, -7.03197271e-02],\n",
       "       [ 5.21485209e-01,  5.23391068e-01, -8.48039761e-02],\n",
       "       [ 5.23057640e-01,  5.91304541e-01, -7.59945437e-02],\n",
       "       [ 4.39731032e-01,  4.90437806e-01, -1.82091109e-02],\n",
       "       [ 4.67841029e-01,  4.89203215e-01, -7.90640488e-02],\n",
       "       [ 4.80144352e-01,  5.77234149e-01, -7.65616521e-02],\n",
       "       [ 4.88350570e-01,  6.36587143e-01, -5.40433154e-02],\n",
       "       [ 3.84104729e-01,  5.08378804e-01, -2.93605290e-02],\n",
       "       [ 4.20473576e-01,  5.17952204e-01, -6.89662248e-02],\n",
       "       [ 4.38462585e-01,  5.82874060e-01, -6.77693710e-02],\n",
       "       [ 4.49233770e-01,  6.23480439e-01, -5.33257313e-02]])"
      ]
     },
     "execution_count": 5,
     "metadata": {},
     "output_type": "execute_result"
    }
   ],
   "source": [
    "get_landmarks(\"../data/ASL_Alphabet_Dataset/asl_alphabet_train/A/1.jpg\")"
   ]
  },
  {
   "cell_type": "code",
   "execution_count": 6,
   "metadata": {},
   "outputs": [
    {
     "name": "stderr",
     "output_type": "stream",
     "text": [
      "/Users/gvssriram/anaconda3/envs/math_note_x/lib/python3.11/site-packages/google/protobuf/symbol_database.py:55: UserWarning: SymbolDatabase.GetPrototype() is deprecated. Please use message_factory.GetMessageClass() instead. SymbolDatabase.GetPrototype() will be removed soon.\n",
      "  warnings.warn('SymbolDatabase.GetPrototype() is deprecated. Please '\n"
     ]
    }
   ],
   "source": [
    "import cv2\n",
    "import numpy as np\n",
    "\n",
    "def plot_landmarks(image_path, landmarks):\n",
    "    # Read the image\n",
    "    image = cv2.imread(image_path)\n",
    "\n",
    "    # Iterate over the landmarks and plot them on the image\n",
    "    for landmark in landmarks:\n",
    "        x, y, z = landmark\n",
    "        # Convert the 3D coordinates to 2D image coordinates\n",
    "        x = int(x * image.shape[1])\n",
    "        y = int(y * image.shape[0])\n",
    "        # Plot a circle at the landmark position\n",
    "        cv2.circle(image, (x, y), 5, (0, 255, 0), -1)\n",
    "\n",
    "    # Display the image with landmarks\n",
    "    cv2.imshow(\"Landmarks\", image)\n",
    "    cv2.waitKey(0)\n",
    "    cv2.destroyAllWindows()\n",
    "\n",
    "# Example usage\n",
    "landmarks = get_landmarks(\"../data/ASL_Alphabet_Dataset/asl_alphabet_train/A/1.jpg\")\n",
    "plot_landmarks(\"../data/ASL_Alphabet_Dataset/asl_alphabet_train/A/1.jpg\", landmarks)"
   ]
  },
  {
   "cell_type": "code",
   "execution_count": null,
   "metadata": {},
   "outputs": [],
   "source": []
  },
  {
   "cell_type": "code",
   "execution_count": null,
   "metadata": {},
   "outputs": [],
   "source": [
    "# Release the MediaPipe Hands model\n",
    "mp_hands.close()"
   ]
  }
 ],
 "metadata": {
  "kernelspec": {
   "display_name": "math_note_x",
   "language": "python",
   "name": "python3"
  },
  "language_info": {
   "codemirror_mode": {
    "name": "ipython",
    "version": 3
   },
   "file_extension": ".py",
   "mimetype": "text/x-python",
   "name": "python",
   "nbconvert_exporter": "python",
   "pygments_lexer": "ipython3",
   "version": "3.11.5"
  }
 },
 "nbformat": 4,
 "nbformat_minor": 2
}
