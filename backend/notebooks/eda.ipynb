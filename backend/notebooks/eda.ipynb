{
 "cells": [
  {
   "cell_type": "code",
   "execution_count": 1,
   "metadata": {},
   "outputs": [
    {
     "name": "stderr",
     "output_type": "stream",
     "text": [
      "WARNING: All log messages before absl::InitializeLog() is called are written to STDERR\n",
      "I0000 00:00:1719472540.488782 10534738 gl_context.cc:357] GL version: 2.1 (2.1 Metal - 88.1), renderer: Apple M2 Pro\n"
     ]
    },
    {
     "name": "stderr",
     "output_type": "stream",
     "text": [
      "INFO: Created TensorFlow Lite XNNPACK delegate for CPU.\n",
      "W0000 00:00:1719472540.502320 10535258 inference_feedback_manager.cc:114] Feedback manager requires a model with a single signature inference. Disabling support for feedback tensors.\n",
      "W0000 00:00:1719472540.508902 10535259 inference_feedback_manager.cc:114] Feedback manager requires a model with a single signature inference. Disabling support for feedback tensors.\n"
     ]
    }
   ],
   "source": [
    "import mediapipe as mp\n",
    "import cv2\n",
    "import numpy as np\n",
    "import os\n",
    "\n",
    "# Load the MediaPipe Hands model\n",
    "mp_hands = mp.solutions.hands.Hands()\n",
    "\n",
    "def get_landmarks(file_location):\n",
    "    # Read the image\n",
    "    image = cv2.imread(file_location)\n",
    "\n",
    "    # Convert the image to RGB\n",
    "    image_rgb = cv2.cvtColor(image, cv2.COLOR_BGR2RGB)\n",
    "\n",
    "    # Process the image and get the landmarks data\n",
    "    results = mp_hands.process(image_rgb)\n",
    "\n",
    "    # Extract the landmarks from the results\n",
    "    landmarks = results.multi_hand_landmarks\n",
    "    \n",
    "    # Convert the landmarks to a numpy array\n",
    "    if landmarks:\n",
    "        landmarks_np = np.array([[landmark.x, landmark.y, landmark.z] for landmark in landmarks[0].landmark])\n",
    "    else:\n",
    "        return None\n",
    "    \n",
    "    return landmarks_np"
   ]
  },
  {
   "cell_type": "code",
   "execution_count": 2,
   "metadata": {},
   "outputs": [
    {
     "data": {
      "text/plain": [
       "(223075, 29)"
      ]
     },
     "execution_count": 2,
     "metadata": {},
     "output_type": "execute_result"
    }
   ],
   "source": [
    "# count the number of subfolders and files in the given \n",
    "files = []\n",
    "folders = []\n",
    "def count_files(path='.'):\n",
    "    global file_count, folder_count\n",
    "    with os.scandir(path) as entries:\n",
    "        \n",
    "        for entry in entries:\n",
    "            # print(entry.path)\n",
    "            # print(curr_label)\n",
    "            if entry.is_file():\n",
    "                files.append(entry.path)\n",
    "            elif entry.is_dir():\n",
    "                folders.append(entry.path)\n",
    "                count_files(entry.path)\n",
    "        \n",
    "    return files, folders\n",
    "\n",
    "count_files(\"/Users/gvssriram/Desktop/projects-internship/MathNoteX/sign/ASL_Alphabet_Dataset/asl_alphabet_train\")\n",
    "\n",
    "len(set(files)), len(set(folders))"
   ]
  },
  {
   "cell_type": "code",
   "execution_count": 2,
   "metadata": {
    "vscode": {
     "languageId": "ruby"
    }
   },
   "outputs": [
    {
     "name": "stderr",
     "output_type": "stream",
     "text": [
      "INFO: Created TensorFlow Lite XNNPACK delegate for CPU.\n"
     ]
    },
    {
     "name": "stderr",
     "output_type": "stream",
     "text": [
      "W0000 00:00:1719360603.128705 9646481 inference_feedback_manager.cc:114] Feedback manager requires a model with a single signature inference. Disabling support for feedback tensors.\n",
      "W0000 00:00:1719360603.134692 9646481 inference_feedback_manager.cc:114] Feedback manager requires a model with a single signature inference. Disabling support for feedback tensors.\n",
      "/Users/gvssriram/anaconda3/envs/math_note_x/lib/python3.11/site-packages/google/protobuf/symbol_database.py:55: UserWarning: SymbolDatabase.GetPrototype() is deprecated. Please use message_factory.GetMessageClass() instead. SymbolDatabase.GetPrototype() will be removed soon.\n",
      "  warnings.warn('SymbolDatabase.GetPrototype() is deprecated. Please '\n"
     ]
    },
    {
     "name": "stdout",
     "output_type": "stream",
     "text": [
      "R\n",
      "U\n",
      "I\n",
      "N\n",
      "G\n",
      "Z\n",
      "T\n",
      "S\n",
      "A\n",
      "F\n",
      "O\n",
      "H\n",
      "del\n",
      "nothing\n",
      "space\n",
      "M\n",
      "J\n",
      "C\n",
      "D\n",
      "V\n",
      "Q\n",
      "X\n",
      "E\n",
      "B\n",
      "K\n",
      "L\n",
      "Y\n",
      "P\n",
      "W\n"
     ]
    }
   ],
   "source": [
    "# Initialize the list to store the landmarks\n",
    "landmarks_list = []\n",
    "        \n",
    "# Initialize the list to store the labels\n",
    "labels = []\n",
    "\n",
    "global curr_label\n",
    "curr_label = \"\"\n",
    "\n",
    "def getLandmarksAndLabels(path='.'):\n",
    "    global curr_label\n",
    "    with os.scandir(path) as entries:\n",
    "        \n",
    "        for entry in entries:\n",
    "            # print(entry.path)\n",
    "            # print(curr_label)\n",
    "            if entry.is_file():\n",
    "                landmarks = get_landmarks(entry.path)\n",
    "                # print(landmarks)\n",
    "                if landmarks is not None:\n",
    "                    landmarks_list.append(landmarks)\n",
    "                    labels.append(curr_label)\n",
    "                # else:\n",
    "                #     print(\"No landmarks found\")\n",
    "            elif entry.is_dir():\n",
    "                curr_label = entry.name\n",
    "                print(curr_label)\n",
    "                getLandmarksAndLabels(entry.path)\n",
    "        \n",
    "    return landmarks_list, labels\n",
    "\n",
    "x_train, y_train = getLandmarksAndLabels(\"/Users/gvssriram/Desktop/projects-internship/MathNoteX/sign/ASL_Alphabet_Dataset/asl_alphabet_train\")"
   ]
  },
  {
   "cell_type": "code",
   "execution_count": 5,
   "metadata": {
    "vscode": {
     "languageId": "ruby"
    }
   },
   "outputs": [
    {
     "data": {
      "text/plain": [
       "(list, list, numpy.ndarray, str)"
      ]
     },
     "execution_count": 5,
     "metadata": {},
     "output_type": "execute_result"
    }
   ],
   "source": [
    "type(x_train), type(y_train), type(x_train[0]), type(y_train[0])"
   ]
  },
  {
   "cell_type": "code",
   "execution_count": 6,
   "metadata": {
    "vscode": {
     "languageId": "ruby"
    }
   },
   "outputs": [],
   "source": [
    "# convert the list to numpy array\n",
    "x_train = np.array(x_train)\n",
    "y_train = np.array(y_train)"
   ]
  },
  {
   "cell_type": "code",
   "execution_count": 7,
   "metadata": {
    "vscode": {
     "languageId": "ruby"
    }
   },
   "outputs": [
    {
     "data": {
      "text/plain": [
       "((169090, 21, 3), (169090,))"
      ]
     },
     "execution_count": 7,
     "metadata": {},
     "output_type": "execute_result"
    }
   ],
   "source": [
    "x_train.shape, y_train.shape"
   ]
  },
  {
   "cell_type": "code",
   "execution_count": 9,
   "metadata": {
    "vscode": {
     "languageId": "ruby"
    }
   },
   "outputs": [],
   "source": [
    "np.save('x_train.npy', x_train)"
   ]
  },
  {
   "cell_type": "code",
   "execution_count": 10,
   "metadata": {
    "vscode": {
     "languageId": "ruby"
    }
   },
   "outputs": [],
   "source": [
    "np.save('y_train.npy', y_train)"
   ]
  },
  {
   "cell_type": "code",
   "execution_count": 11,
   "metadata": {
    "vscode": {
     "languageId": "ruby"
    }
   },
   "outputs": [
    {
     "data": {
      "text/plain": [
       "(169090, 63)"
      ]
     },
     "execution_count": 11,
     "metadata": {},
     "output_type": "execute_result"
    }
   ],
   "source": [
    "# reshape x_train\n",
    "x_train = x_train.reshape(x_train.shape[0], x_train.shape[1]*x_train.shape[2])\n",
    "x_train.shape"
   ]
  },
  {
   "cell_type": "code",
   "execution_count": 12,
   "metadata": {
    "vscode": {
     "languageId": "ruby"
    }
   },
   "outputs": [],
   "source": [
    "np.save('x_train_flat.npy', x_train)"
   ]
  },
  {
   "cell_type": "code",
   "execution_count": null,
   "metadata": {
    "vscode": {
     "languageId": "ruby"
    }
   },
   "outputs": [],
   "source": []
  },
  {
   "cell_type": "code",
   "execution_count": null,
   "metadata": {
    "vscode": {
     "languageId": "ruby"
    }
   },
   "outputs": [],
   "source": []
  },
  {
   "cell_type": "code",
   "execution_count": null,
   "metadata": {
    "vscode": {
     "languageId": "ruby"
    }
   },
   "outputs": [],
   "source": []
  },
  {
   "cell_type": "code",
   "execution_count": null,
   "metadata": {
    "vscode": {
     "languageId": "ruby"
    }
   },
   "outputs": [],
   "source": []
  },
  {
   "cell_type": "code",
   "execution_count": null,
   "metadata": {
    "vscode": {
     "languageId": "ruby"
    }
   },
   "outputs": [],
   "source": []
  },
  {
   "cell_type": "code",
   "execution_count": null,
   "metadata": {
    "vscode": {
     "languageId": "ruby"
    }
   },
   "outputs": [],
   "source": []
  },
  {
   "cell_type": "code",
   "execution_count": null,
   "metadata": {
    "vscode": {
     "languageId": "ruby"
    }
   },
   "outputs": [],
   "source": []
  },
  {
   "cell_type": "code",
   "execution_count": 3,
   "metadata": {},
   "outputs": [],
   "source": [
    "# Release the MediaPipe Hands model\n",
    "mp_hands.close()"
   ]
  }
 ],
 "metadata": {
  "kernelspec": {
   "display_name": "math_note_x",
   "language": "python",
   "name": "python3"
  },
  "language_info": {
   "codemirror_mode": {
    "name": "ipython",
    "version": 3
   },
   "file_extension": ".py",
   "mimetype": "text/x-python",
   "name": "python",
   "nbconvert_exporter": "python",
   "pygments_lexer": "ipython3",
   "version": "3.11.5"
  }
 },
 "nbformat": 4,
 "nbformat_minor": 2
}
